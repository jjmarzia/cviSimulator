{
 "cells": [
  {
   "cell_type": "code",
   "execution_count": 1,
   "metadata": {},
   "outputs": [],
   "source": [
    "import numpy as np\n",
    "import matplotlib\n",
    "import matplotlib.pyplot as plt\n",
    "import scipy\n",
    "from scipy import stats, optimize, interpolate\n",
    "from scipy.integrate import odeint\n",
    "plt.rcParams.update({'font.size': 18})"
   ]
  },
  {
   "cell_type": "code",
   "execution_count": 2,
   "metadata": {},
   "outputs": [
    {
     "name": "stdout",
     "output_type": "stream",
     "text": [
      "0.16248273620927778\n",
      "0\n",
      "1000\n",
      "2000\n",
      "3000\n",
      "4000\n",
      "5000\n",
      "6000\n",
      "7000\n",
      "8000\n",
      "9000\n",
      "10000\n",
      "11000\n",
      "12000\n",
      "13000\n",
      "14000\n",
      "15000\n",
      "16000\n",
      "17000\n",
      "18000\n",
      "19000\n",
      "20000\n",
      "21000\n",
      "22000\n",
      "23000\n",
      "24000\n",
      "25000\n",
      "26000\n",
      "27000\n",
      "28000\n",
      "29000\n",
      "30000\n",
      "31000\n",
      "32000\n",
      "33000\n",
      "34000\n",
      "35000\n",
      "36000\n",
      "37000\n",
      "38000\n",
      "39000\n",
      "40000\n",
      "41000\n",
      "42000\n"
     ]
    },
    {
     "ename": "KeyboardInterrupt",
     "evalue": "",
     "output_type": "error",
     "traceback": [
      "\u001b[0;31m---------------------------------------------------------------------------\u001b[0m",
      "\u001b[0;31mKeyboardInterrupt\u001b[0m                         Traceback (most recent call last)",
      "Cell \u001b[0;32mIn [2], line 50\u001b[0m\n\u001b[1;32m     47\u001b[0m     drp_dz[:\u001b[38;5;241m-\u001b[39m\u001b[38;5;241m1\u001b[39m] \u001b[38;5;241m=\u001b[39m (rp[\u001b[38;5;241m1\u001b[39m:] \u001b[38;5;241m-\u001b[39m rp[:\u001b[38;5;241m-\u001b[39m\u001b[38;5;241m1\u001b[39m])\u001b[38;5;241m/\u001b[39m\u001b[38;5;241m1000\u001b[39m\n\u001b[1;32m     48\u001b[0m     drp_dz[\u001b[38;5;241m-\u001b[39m\u001b[38;5;241m1\u001b[39m] \u001b[38;5;241m=\u001b[39m drp_dz[\u001b[38;5;241m-\u001b[39m\u001b[38;5;241m2\u001b[39m]\n\u001b[0;32m---> 50\u001b[0m     \u001b[38;5;28;01mif\u001b[39;00m \u001b[38;5;28many\u001b[39m(rp\u001b[38;5;241m<\u001b[39m\u001b[38;5;241m1e-8\u001b[39m):\u001b[38;5;66;03m# or any(C<0):\u001b[39;00m\n\u001b[1;32m     51\u001b[0m         \u001b[38;5;28;01mbreak\u001b[39;00m\n\u001b[1;32m     52\u001b[0m \u001b[38;5;28mprint\u001b[39m(i)\n",
      "\u001b[0;31mKeyboardInterrupt\u001b[0m: "
     ]
    }
   ],
   "source": [
    "#rp = np.ones(1000) #rp over z dimension\n",
    "z = np.linspace(0,0.0001,1000)\n",
    "#C = (1-np.tanh(z_points*5-2))/2\n",
    "#C = np.linspace(1,0.5,10002) #C over z dimension\n",
    "#C[1001] = 0\n",
    "C = np.empty(1000)\n",
    "dC_dz = np.zeros(1000) #dC/dz over z-dimension\n",
    "d2C_dz2 = np.zeros(1000) #d^2C/dz^2 over z-dimension\n",
    "\n",
    "k_het=1\n",
    "D_g=5e-5*15\n",
    "Vs=1.249e-5\n",
    "\n",
    "t = np.linspace(0,1000,1000)\n",
    "#rp = 1e-5*np.ones(1000) + 1e-5*0.1*np.random.randn(1000)\n",
    "rp = 1e-5*np.ones(1000)\n",
    "rp_init = rp\n",
    "drp_dz = np.zeros(1000)\n",
    "\n",
    "R = 8.206e-5 # m^3 atm / K mol\n",
    "T = 1000 # K\n",
    "P = 1 # atm\n",
    "MTSfrac = 0.2 # unitless\n",
    "C_left_boundary = (MTSfrac * P / (R*T))/15 # mol / m^3  \n",
    "print(C_left_boundary)\n",
    "dC_dz_left_boundary = 0\n",
    "\n",
    "for i in range(100000):\n",
    "    def C_diff_eq(C,z):\n",
    "        dC_dz_zero = C[1] # The C vector contains C and dC/dz\n",
    "        dC_dz_one = -2 * 1/(rp[int(z)]*D_g) * drp_dz[int(z)] * C[1] - 2/(rp[int(z)]*D_g)*k_het*C[0]\n",
    "        return [dC_dz_zero, dC_dz_one]\n",
    "    sol = odeint(C_diff_eq, [C_left_boundary, dC_dz_left_boundary], z)\n",
    "\n",
    "    #if any(C<0):\n",
    "        #break    \n",
    "    #print(sol[:,0])\n",
    "    #print(rp)\n",
    "    C_quasi = sol[:,0]\n",
    "    condition = C_quasi<0\n",
    "    if any(condition):\n",
    "        C_quasi[condition.argmax():] = 0\n",
    "\n",
    "    rp = rp - 1 * rp * k_het * C_quasi * Vs\n",
    "    if i % 1000 ==0:\n",
    "        print(i)\n",
    "    drp_dz[:-1] = (rp[1:] - rp[:-1])/1000\n",
    "    drp_dz[-1] = drp_dz[-2]\n",
    "    \n",
    "    if any(rp<1e-8):# or any(C<0):\n",
    "        break\n",
    "print(i)\n",
    " #4.3 dimensionless time noisy porosity\n",
    "#4.6 dimensionless time for all rp=1 initial"
   ]
  },
  {
   "cell_type": "code",
   "execution_count": null,
   "metadata": {},
   "outputs": [],
   "source": [
    "# z = np.linspace(0,0.01,1000)\n",
    "#rp_init = np.ones(1000)\n",
    "drp_dz_init = np.zeros(1000)\n",
    "def C_diff_eq(C,z):\n",
    "    dC_dz_zero = C[1] # The C vector contains C and dC/dz\n",
    "    dC_dz_one = -2 * 1/(rp_init[int(z)]*D_g) * drp_dz_init[int(z)] * C[1] - 2/(rp_init[int(z)]*D_g)*k_het*C[0]\n",
    "    return [dC_dz_zero, dC_dz_one]\n",
    "    \n",
    "C_left_boundary = MTSfrac * P / (R*T) # mol / m^3    \n",
    "dC_dz_left_boundary = 0\n",
    "initial_C = odeint(C_diff_eq, [C_left_boundary, dC_dz_left_boundary], z)\n",
    "\n",
    "C_quasi_initial = initial_C[:,0]\n",
    "condition = C_quasi_initial<0\n",
    "if any(condition):\n",
    "    initial_C[condition.argmax():] = 0\n",
    "           "
   ]
  },
  {
   "cell_type": "code",
   "execution_count": null,
   "metadata": {},
   "outputs": [],
   "source": [
    "plt.plot(z*10000,initial_C[:,0],'go', label= r'$C_{init}$')\n",
    "plt.plot(z*10000,sol[:,0],'bo', label=r'$C$')\n",
    "plt.xlabel(r'$z \\ (\\times 10^{-4} \\ m)$')\n",
    "plt.ylabel(r'$C \\ (mol\\ / \\ m^3)$')\n",
    "#plt.ylim([0,1.1])\n",
    "plt.legend()\n",
    "plt.legend(bbox_to_anchor=(1.04, 1), loc=\"upper left\")\n",
    "plt.savefig('reacting_gas_concentration_versus_depth_lowP.png', dpi=220,bbox_inches='tight')"
   ]
  },
  {
   "cell_type": "code",
   "execution_count": null,
   "metadata": {},
   "outputs": [],
   "source": [
    "\n",
    "plt.plot(z*10000,rp_init,'go', label=r'$r_{p \\ init}$')\n",
    "plt.plot(z*10000,rp,'bo', label=r'$r_p$')\n",
    "#rp_init = np.ones(1000)\n",
    "plt.xlabel(r'$z \\ (\\times 10^{-4} \\ m)$')\n",
    "plt.ylabel(r'$r_p \\ (m) $')\n",
    "plt.legend()\n",
    "plt.savefig('pore_radius_versus_depth_lowP.png', dpi=220,bbox_inches='tight')\n",
    "plt.legend(bbox_to_anchor=(1.04, 1), loc=\"upper left\")"
   ]
  },
  {
   "cell_type": "code",
   "execution_count": null,
   "metadata": {},
   "outputs": [],
   "source": [
    "# z_points = np.linspace(0,1,10000)\n",
    "# C = (1-np.tanh(z_points*5-2))/2\n",
    "# plt.plot(z_points,C)"
   ]
  },
  {
   "cell_type": "code",
   "execution_count": null,
   "metadata": {},
   "outputs": [],
   "source": [
    "# test_vec = np.array([False, True, False, False])\n",
    "# if any(test_vec):\n",
    "#     print(test_vec.argmax())"
   ]
  },
  {
   "cell_type": "code",
   "execution_count": null,
   "metadata": {},
   "outputs": [],
   "source": []
  }
 ],
 "metadata": {
  "kernelspec": {
   "display_name": "Python 3 (ipykernel)",
   "language": "python",
   "name": "python3"
  },
  "language_info": {
   "codemirror_mode": {
    "name": "ipython",
    "version": 3
   },
   "file_extension": ".py",
   "mimetype": "text/x-python",
   "name": "python",
   "nbconvert_exporter": "python",
   "pygments_lexer": "ipython3",
   "version": "3.11.0"
  }
 },
 "nbformat": 4,
 "nbformat_minor": 4
}
